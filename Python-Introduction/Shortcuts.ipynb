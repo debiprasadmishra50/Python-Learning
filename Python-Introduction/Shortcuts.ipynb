{
 "cells": [
  {
   "cell_type": "markdown",
   "metadata": {},
   "source": [
    "#### A  :  Add cell above\n",
    "#### B  : Add Cell Below\n",
    "#### M  : MarkDown\n",
    "#### Y   : Code\n",
    "#### H  :  Help\n",
    "#### K  :  Go above 1 Cell\n",
    "#### J  :  Go 1 Cell below\n",
    "#### X  :  Delete or Cut a cell\n",
    "#### D,D  : Dele or Cut a Cell\n",
    "#### Ctrl + M : Enter Command mode\n",
    "#### Enter : Enter Code Mode\n",
    "#### Ctrl + D  :  Delete whole line\n",
    "#### Tab  :  Show / Fill pre-defined functions\n",
    "#### Shift + Tab : Show information about that function"
   ]
  }
 ],
 "metadata": {
  "kernelspec": {
   "display_name": "Python 3",
   "language": "python",
   "name": "python3"
  },
  "language_info": {
   "codemirror_mode": {
    "name": "ipython",
    "version": 3
   },
   "file_extension": ".py",
   "mimetype": "text/x-python",
   "name": "python",
   "nbconvert_exporter": "python",
   "pygments_lexer": "ipython3",
   "version": "3.7.4"
  }
 },
 "nbformat": 4,
 "nbformat_minor": 2
}
