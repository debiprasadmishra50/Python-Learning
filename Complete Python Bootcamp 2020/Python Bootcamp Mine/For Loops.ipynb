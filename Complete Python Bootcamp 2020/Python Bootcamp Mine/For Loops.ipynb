{
 "cells": [
  {
   "cell_type": "markdown",
   "metadata": {},
   "source": [
    "## For Loops"
   ]
  },
  {
   "cell_type": "code",
   "execution_count": 9,
   "metadata": {},
   "outputs": [
    {
     "name": "stdout",
     "output_type": "stream",
     "text": [
      "1\t2\t3\t4\t5\t6\t7\t8\t9\t10\t"
     ]
    }
   ],
   "source": [
    "# Traverse a list\n",
    "num_list = [1,2,3,4,5,6,7,8,9,10]\n",
    "\n",
    "for item in num_list:\n",
    "    print(item, end=\"\\t\")"
   ]
  },
  {
   "cell_type": "code",
   "execution_count": 13,
   "metadata": {},
   "outputs": [
    {
     "name": "stdout",
     "output_type": "stream",
     "text": [
      "\t\t\t1 is an ODD number\n",
      "2 is an EVEN number\n",
      "\t\t\t3 is an ODD number\n",
      "4 is an EVEN number\n",
      "\t\t\t5 is an ODD number\n",
      "6 is an EVEN number\n",
      "\t\t\t7 is an ODD number\n",
      "8 is an EVEN number\n",
      "\t\t\t9 is an ODD number\n",
      "10 is an EVEN number\n"
     ]
    }
   ],
   "source": [
    "# Check for even numbers\n",
    "for num in num_list:\n",
    "    if num % 2 == 0:\n",
    "        print(f\"{num} is an EVEN number\")\n",
    "    else:\n",
    "        print(f\"\\t\\t\\t{num} is an ODD number\")"
   ]
  },
  {
   "cell_type": "code",
   "execution_count": 15,
   "metadata": {},
   "outputs": [
    {
     "name": "stdout",
     "output_type": "stream",
     "text": [
      "The sum of the numbers in list is 55\n"
     ]
    }
   ],
   "source": [
    "list_sum = 0\n",
    "\n",
    "for num in num_list:\n",
    "    list_sum = list_sum + num\n",
    "\n",
    "print(f\"The sum of the numbers in list is {list_sum}\")"
   ]
  },
  {
   "cell_type": "code",
   "execution_count": 18,
   "metadata": {},
   "outputs": [
    {
     "name": "stdout",
     "output_type": "stream",
     "text": [
      "H\te\tl\tl\to\t,\t \tW\to\tr\tl\td\t!\t"
     ]
    }
   ],
   "source": [
    "# string = \"Hello, World!\"\n",
    "\n",
    "for letter in \"Hello, World!\":\n",
    "    print(letter, end=\"\\t\")"
   ]
  },
  {
   "cell_type": "code",
   "execution_count": 19,
   "metadata": {},
   "outputs": [
    {
     "name": "stdout",
     "output_type": "stream",
     "text": [
      "1\t2\t3\t4\t5\t"
     ]
    }
   ],
   "source": [
    " # Traverse a Tuple\n",
    "tup = (1,2,3,4,5)\n",
    "\n",
    "for item in tup:\n",
    "    print(item, end=\"\\t\")"
   ]
  },
  {
   "cell_type": "code",
   "execution_count": 20,
   "metadata": {},
   "outputs": [],
   "source": [
    "mylist = [(1,2), (3,4), (5,6), (7,8)]"
   ]
  },
  {
   "cell_type": "code",
   "execution_count": 21,
   "metadata": {},
   "outputs": [
    {
     "data": {
      "text/plain": [
       "4"
      ]
     },
     "execution_count": 21,
     "metadata": {},
     "output_type": "execute_result"
    }
   ],
   "source": [
    "len(mylist)"
   ]
  },
  {
   "cell_type": "code",
   "execution_count": 23,
   "metadata": {},
   "outputs": [
    {
     "name": "stdout",
     "output_type": "stream",
     "text": [
      "1\t2\n",
      "3\t4\n",
      "5\t6\n",
      "7\t8\n"
     ]
    }
   ],
   "source": [
    "for (a,b) in mylist:\n",
    "    print(f\"{a}\\t{b}\")"
   ]
  },
  {
   "cell_type": "code",
   "execution_count": 24,
   "metadata": {},
   "outputs": [
    {
     "name": "stdout",
     "output_type": "stream",
     "text": [
      "2\n",
      "4\n",
      "6\n",
      "8\n"
     ]
    }
   ],
   "source": [
    "for a,b in mylist:\n",
    "    print(b)"
   ]
  },
  {
   "cell_type": "code",
   "execution_count": 25,
   "metadata": {},
   "outputs": [],
   "source": [
    "mylist = [(1,2,3), (5,6,7), (8,9,10)]"
   ]
  },
  {
   "cell_type": "code",
   "execution_count": 29,
   "metadata": {},
   "outputs": [
    {
     "name": "stdout",
     "output_type": "stream",
     "text": [
      "1\t2\t3\n",
      "5\t6\t7\n",
      "8\t9\t10\n"
     ]
    }
   ],
   "source": [
    "for a,b,c in mylist:\n",
    "    print(f\"{a}\\t{b}\\t{c}\")"
   ]
  },
  {
   "cell_type": "code",
   "execution_count": 36,
   "metadata": {},
   "outputs": [
    {
     "name": "stdout",
     "output_type": "stream",
     "text": [
      "k1\n",
      "k2\n",
      "k3\n",
      "**********\n",
      "1\n",
      "2\n",
      "3\n",
      "**********\n",
      "('k1', 1)\n",
      "('k2', 2)\n",
      "('k3', 3)\n",
      "**********\n",
      "k1\t1\n",
      "k2\t2\n",
      "k3\t3\n"
     ]
    }
   ],
   "source": [
    "# Traversing a Dictionary\n",
    "d = {\"k1\":1, \"k2\":2, \"k3\":3}\n",
    "\n",
    "for item in d:\n",
    "    print(item)\n",
    "\n",
    "print(\"*\" * 10)\n",
    "\n",
    "for item in d.values():\n",
    "    print(item)\n",
    "\n",
    "print(\"*\" * 10)\n",
    "\n",
    "for item in d.items():\n",
    "    print(item)\n",
    "\n",
    "print(\"*\" * 10)\n",
    "\n",
    "for key,value in d.items():\n",
    "    print(f\"{key}\\t{value}\")"
   ]
  },
  {
   "cell_type": "code",
   "execution_count": null,
   "metadata": {},
   "outputs": [],
   "source": []
  }
 ],
 "metadata": {
  "kernelspec": {
   "display_name": "Python 3",
   "language": "python",
   "name": "python3"
  },
  "language_info": {
   "codemirror_mode": {
    "name": "ipython",
    "version": 3
   },
   "file_extension": ".py",
   "mimetype": "text/x-python",
   "name": "python",
   "nbconvert_exporter": "python",
   "pygments_lexer": "ipython3",
   "version": "3.8.3"
  }
 },
 "nbformat": 4,
 "nbformat_minor": 4
}
