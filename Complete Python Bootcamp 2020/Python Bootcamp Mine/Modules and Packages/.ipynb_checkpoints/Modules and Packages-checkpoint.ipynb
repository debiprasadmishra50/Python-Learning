{
 "cells": [
  {
   "cell_type": "markdown",
   "metadata": {},
   "source": [
    "## Modules and Packges and \\_\\_name\\_\\_=\\_\\_main\\_\\_"
   ]
  },
  {
   "cell_type": "markdown",
   "metadata": {},
   "source": [
    "### Modules"
   ]
  },
  {
   "cell_type": "markdown",
   "metadata": {},
   "source": [
    "#### module.py"
   ]
  },
  {
   "cell_type": "code",
   "execution_count": null,
   "metadata": {},
   "outputs": [],
   "source": [
    "def myfunc():\n",
    "    print(\"Hey! I am in module.py\")"
   ]
  },
  {
   "cell_type": "markdown",
   "metadata": {},
   "source": [
    "#### program.py"
   ]
  },
  {
   "cell_type": "code",
   "execution_count": null,
   "metadata": {},
   "outputs": [],
   "source": [
    "from module import myfunc\n",
    "myfunc()"
   ]
  },
  {
   "cell_type": "markdown",
   "metadata": {},
   "source": [
    "#### Run in Terminal : python program.py"
   ]
  },
  {
   "cell_type": "markdown",
   "metadata": {},
   "source": [
    "### Packages"
   ]
  },
  {
   "cell_type": "markdown",
   "metadata": {},
   "source": [
    "#### Create A package Main_Package and a Sub_package inside Main_Package\n",
    "#### Create __init__.py in each packages so that python would keep track of the packages\n",
    "#### Create main_script.py and sub_script.py in respective packages\n",
    "#### Use them in program.py"
   ]
  },
  {
   "cell_type": "markdown",
   "metadata": {},
   "source": [
    "#### main_script.py"
   ]
  },
  {
   "cell_type": "code",
   "execution_count": null,
   "metadata": {},
   "outputs": [],
   "source": [
    "def main_report():\n",
    "    print(\"Hey! I am in main_script in Main_Package\")"
   ]
  },
  {
   "cell_type": "markdown",
   "metadata": {},
   "source": [
    "#### sub_script.py"
   ]
  },
  {
   "cell_type": "code",
   "execution_count": null,
   "metadata": {},
   "outputs": [],
   "source": [
    "def sub_report():\n",
    "    print(\"Hye! I am a function inside sub-script in ../Main_Package/Sub_Package\")"
   ]
  },
  {
   "cell_type": "markdown",
   "metadata": {},
   "source": [
    "#### program.py"
   ]
  },
  {
   "cell_type": "code",
   "execution_count": null,
   "metadata": {},
   "outputs": [],
   "source": [
    "from module import myfunc\n",
    "from Main_Package import main_script\n",
    "from Main_Package.Sub_Package import sub_script\n",
    "\n",
    "myfunc()\n",
    "main_script.main_report()\n",
    "sub_script.sub_report()"
   ]
  },
  {
   "cell_type": "markdown",
   "metadata": {},
   "source": [
    "### \\_\\_name\\_\\_ = \\_\\_main\\_\\_"
   ]
  },
  {
   "cell_type": "markdown",
   "metadata": {},
   "source": [
    "    Sometimes when you are importing from a module, you would like to know whether a module function is being used as an import or if you're using original .py file of that module"
   ]
  },
  {
   "cell_type": "markdown",
   "metadata": {},
   "source": [
    "#### Create 2 .py files : one.py and two.py"
   ]
  },
  {
   "cell_type": "markdown",
   "metadata": {},
   "source": [
    "##### one.py"
   ]
  },
  {
   "cell_type": "code",
   "execution_count": null,
   "metadata": {},
   "outputs": [],
   "source": [
    "# one.py\n",
    "\n",
    "def func():\n",
    "\tprint(\"func() in one.py\")\n",
    "\n",
    "print(\"Top Level Indentation in one.py\")\n",
    "\n",
    "if __name__ == '__main__':\n",
    "\tprint(\"one.py is being run DIRECTLY!\")\n",
    "else:\n",
    "\tprint(\"one.py has been imported\")"
   ]
  },
  {
   "cell_type": "markdown",
   "metadata": {},
   "source": [
    "##### two.py"
   ]
  },
  {
   "cell_type": "code",
   "execution_count": null,
   "metadata": {},
   "outputs": [],
   "source": [
    "# two.py\n",
    "\n",
    "import one\n",
    "\n",
    "print(\"TOP LEVEL INDENTATION IN two.py\")\n",
    "\n",
    "one.func()\n",
    "\n",
    "if __name__ == '__main__':\n",
    "\tprint(\"two.py is being run DIRECTLY!\")\n",
    "else:\n",
    "\tprint('two.py has been imported')"
   ]
  },
  {
   "cell_type": "markdown",
   "metadata": {},
   "source": [
    "#### Run the scripts\n",
    "        python one.py\n",
    "            Top Level Indentation in one.py\n",
    "            one.py is being run DIRECTLY!\n",
    "        \n",
    "        python two.py\n",
    "            Top Level Indentation in one.py\n",
    "            one.py has been imported\n",
    "            TOP LEVEL INDENTATION IN two.py\n",
    "            func() in one.py\n",
    "            two.py is being run DIRECTLY!"
   ]
  }
 ],
 "metadata": {
  "kernelspec": {
   "display_name": "Python 3",
   "language": "python",
   "name": "python3"
  },
  "language_info": {
   "codemirror_mode": {
    "name": "ipython",
    "version": 3
   },
   "file_extension": ".py",
   "mimetype": "text/x-python",
   "name": "python",
   "nbconvert_exporter": "python",
   "pygments_lexer": "ipython3",
   "version": "3.8.3"
  }
 },
 "nbformat": 4,
 "nbformat_minor": 4
}
