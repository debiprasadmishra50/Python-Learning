{
 "cells": [
  {
   "cell_type": "markdown",
   "metadata": {},
   "source": [
    "## Black-Jack Game"
   ]
  },
  {
   "cell_type": "markdown",
   "metadata": {},
   "source": [
    "### Global Values"
   ]
  },
  {
   "cell_type": "code",
   "execution_count": 1,
   "metadata": {},
   "outputs": [],
   "source": [
    "## GLOBAL VARIABLE OF VALUES\n",
    "\n",
    "import random\n",
    "\n",
    "suits = ('Hearts', 'Diamonds', 'Spades', 'Clubs')\n",
    "ranks = ('Two', 'Three', 'Four', 'Five', 'Six', 'Seven', 'Eight', 'Nine', 'Ten', 'Jack', 'Queen', 'King', 'Ace')\n",
    "values = {'Two':2, 'Three':3, 'Four':4, 'Five':5, 'Six':6, 'Seven':7, 'Eight':8, 'Nine':9, 'Ten':10, \n",
    "          'Jack':10, 'Queen':10, 'King':10, 'Ace':11}\n",
    "\n",
    "playing = True"
   ]
  },
  {
   "cell_type": "markdown",
   "metadata": {},
   "source": [
    "### Card Class"
   ]
  },
  {
   "cell_type": "code",
   "execution_count": 2,
   "metadata": {},
   "outputs": [],
   "source": [
    "class Card():\n",
    "    \n",
    "    def __init__(self, suit, rank):\n",
    "        self.suit = suit\n",
    "        self.rank = rank\n",
    "#         self.value = values[rank]\n",
    "    \n",
    "    def __str__(self):\n",
    "        return self.rank +\" of \"+ self.suit        "
   ]
  },
  {
   "cell_type": "markdown",
   "metadata": {},
   "source": [
    "### Deck Class"
   ]
  },
  {
   "cell_type": "code",
   "execution_count": 3,
   "metadata": {},
   "outputs": [],
   "source": [
    "class Deck():\n",
    "    \n",
    "    def __init__(self):\n",
    "        self.deck = []\n",
    "        for suit in suits:\n",
    "            for rank in ranks:\n",
    "                card = Card(suit, rank)\n",
    "                self.deck.append(card)\n",
    "                \n",
    "    def __str__(self):\n",
    "        card_deck = ''\n",
    "        for card in self.deck:\n",
    "            card_deck += \"\\n\" + card.__str__()\n",
    "        return \"THE DECK HAS : \"+card_deck\n",
    "    \n",
    "    def shuffle_deck(self):\n",
    "        random.shuffle(self.deck)\n",
    "    \n",
    "    def deal(self):\n",
    "        single_card = self.deck.pop()\n",
    "        return single_card"
   ]
  },
  {
   "cell_type": "code",
   "execution_count": 15,
   "metadata": {},
   "outputs": [],
   "source": [
    "test_deck = Deck()\n",
    "test_deck.shuffle_deck()\n",
    "print(test_deck)"
   ]
  },
  {
   "cell_type": "markdown",
   "metadata": {},
   "source": [
    "### Hand Class"
   ]
  },
  {
   "cell_type": "code",
   "execution_count": 4,
   "metadata": {},
   "outputs": [],
   "source": [
    "class Hand():\n",
    "    def __init__(self):\n",
    "        self.cards = []\n",
    "        self.value = 0\n",
    "        self.aces = 0  # KEEP TRACK OF ACES\n",
    "    \n",
    "    def add_card(self,card):\n",
    "        # card passed in from Deck.deal -> Single Card Object and it has its (suit, rank)\n",
    "        self.cards.append(card)\n",
    "        self.value += values[card.rank]\n",
    "        \n",
    "        # Track Aces\n",
    "        if card.rank == \"Ace\":\n",
    "            self.aces += 1\n",
    "    \n",
    "    def adjust_for_ace(self):\n",
    "        \n",
    "        # IF TOTAL VALUE > 21 and I STILL HAVE AN ACE\n",
    "        # CHANGE MY ACE TO 1 INSTEAD OF 11\n",
    "        while self.value > 21 and self.aces:\n",
    "            self.value -= 10\n",
    "            self.aces -= 1"
   ]
  },
  {
   "cell_type": "code",
   "execution_count": 5,
   "metadata": {},
   "outputs": [
    {
     "name": "stdout",
     "output_type": "stream",
     "text": [
      "Six of Hearts\n",
      "6\n"
     ]
    }
   ],
   "source": [
    "test_deck = Deck()\n",
    "test_deck.shuffle_deck()\n",
    "\n",
    "# PLAYER\n",
    "test_player = Hand()\n",
    "# DEAL or GRAB 1 card from the DECK\n",
    "pulled_card = test_deck.deal()\n",
    "print(pulled_card)\n",
    "test_player.add_card(pulled_card)\n",
    "print(test_player.value)"
   ]
  },
  {
   "cell_type": "code",
   "execution_count": 6,
   "metadata": {},
   "outputs": [
    {
     "name": "stdout",
     "output_type": "stream",
     "text": [
      "16\n"
     ]
    }
   ],
   "source": [
    "test_player.add_card(test_deck.deal())\n",
    "print(test_player.value)"
   ]
  },
  {
   "cell_type": "markdown",
   "metadata": {},
   "source": [
    "### Chips Class"
   ]
  },
  {
   "cell_type": "code",
   "execution_count": 7,
   "metadata": {},
   "outputs": [],
   "source": [
    "class Chips():\n",
    "    \n",
    "    def __init__(self, total=100):\n",
    "        self.total = total\n",
    "        self.bet = 0\n",
    "    \n",
    "    def win_bet(self):\n",
    "        self.total += self.bet\n",
    "    \n",
    "    def lose_bet(self):\n",
    "        self.total -= self.bet"
   ]
  },
  {
   "cell_type": "markdown",
   "metadata": {},
   "source": [
    "### Implement function to play the game\n",
    "\n",
    "#### Function for taking bets"
   ]
  },
  {
   "cell_type": "code",
   "execution_count": 8,
   "metadata": {},
   "outputs": [],
   "source": [
    "def take_bet(chips):\n",
    "    while True:\n",
    "        try:\n",
    "            chips.bet = int(input('How many times would you like to bet? : '))\n",
    "        except:\n",
    "            print(\"Sorry, please provide a number\")\n",
    "        else:\n",
    "            if chips.bet > chips.total:\n",
    "                print(\"You do not have enough chips, You have {}\".format(chips.total))\n",
    "            else:\n",
    "                break"
   ]
  },
  {
   "cell_type": "markdown",
   "metadata": {},
   "source": [
    "#### Function for taking hits"
   ]
  },
  {
   "cell_type": "code",
   "execution_count": 9,
   "metadata": {},
   "outputs": [],
   "source": [
    "def hit(deck, hand):\n",
    "    single_card = deck.deal()\n",
    "    hand.add_card(single_card)\n",
    "    hand.adjust_for_ace()"
   ]
  },
  {
   "cell_type": "markdown",
   "metadata": {},
   "source": [
    "#### Function prompting the Player to Hit or Stand"
   ]
  },
  {
   "cell_type": "code",
   "execution_count": 10,
   "metadata": {},
   "outputs": [],
   "source": [
    "def hit_or_stand(deck, hand):\n",
    "    global playing\n",
    "    \n",
    "    while True:\n",
    "        x = input(\"Hit or Stand? Enter h or s : \")\n",
    "        \n",
    "        if x[0].lower() == 'h':\n",
    "            hit(deck, hand)\n",
    "        elif x[0].lower() == 's':\n",
    "            print(\"Player Stands, Dealer's Turn\")\n",
    "            playing = False\n",
    "        else:\n",
    "            print(\"Sorry! I did not understand that, Please enter h or s only!\")\n",
    "            continue\n",
    "        \n",
    "        break"
   ]
  },
  {
   "cell_type": "markdown",
   "metadata": {},
   "source": [
    "#### Function to display the cards"
   ]
  },
  {
   "cell_type": "code",
   "execution_count": 14,
   "metadata": {},
   "outputs": [],
   "source": [
    "def show_some(player, dealer):\n",
    "    print(\"DEALERS HAND:\")\n",
    "    print('One card hidden!')\n",
    "    print(dealer.cards[1])\n",
    "    print('\\nPLAYERS HAND:')\n",
    "    for card in player.cards:\n",
    "        print(card)\n",
    "\n",
    "def show_all(player, dealer):\n",
    "    print(\"DEALERS HAND:\")\n",
    "    for card in dealer.cards:\n",
    "        print(card)\n",
    "    print('\\nPLAYERS HAND:')\n",
    "    for card in player.cards:\n",
    "        print(card)"
   ]
  },
  {
   "cell_type": "markdown",
   "metadata": {},
   "source": [
    "#### Function to handle end of game scenarios"
   ]
  },
  {
   "cell_type": "code",
   "execution_count": 15,
   "metadata": {},
   "outputs": [],
   "source": [
    "def player_busts(player, dealer, chips):\n",
    "    print(\"BUST PLAYER\")\n",
    "    chips.lose_bet()\n",
    "\n",
    "def player_wins(player, dealer, chips):\n",
    "    print(\"PLAYER WINS!!\")\n",
    "    chips.win_bet()\n",
    "\n",
    "def dealer_busts(player, dealer, chips):\n",
    "    print(\"PLAYER WINS! DEALER BUSTED!!\")\n",
    "    chips.win_bet()\n",
    "\n",
    "def dealer_wins(player, dealer, chips):\n",
    "    print(\"DEALER WINS!!\")\n",
    "    chips.lose_bet()\n",
    "\n",
    "def push(player, dealer):\n",
    "    print(\"Dealer and Player Tie!! PUSH\")\n"
   ]
  },
  {
   "cell_type": "markdown",
   "metadata": {},
   "source": [
    "### Game Logic"
   ]
  },
  {
   "cell_type": "code",
   "execution_count": 20,
   "metadata": {},
   "outputs": [
    {
     "name": "stdout",
     "output_type": "stream",
     "text": [
      "WELCOME TO BLACKJACK!!\n",
      "\n",
      "\n",
      "How many times would you like to bet? : 1\n",
      "DEALERS HAND:\n",
      "One card hidden!\n",
      "Two of Diamonds\n",
      "\n",
      "PLAYERS HAND:\n",
      "Ace of Hearts\n",
      "Jack of Spades\n",
      "Hit or Stand? Enter h or s : h\n",
      "DEALERS HAND:\n",
      "One card hidden!\n",
      "Two of Diamonds\n",
      "\n",
      "PLAYERS HAND:\n",
      "Ace of Hearts\n",
      "Jack of Spades\n",
      "Six of Clubs\n",
      "Hit or Stand? Enter h or s : s\n",
      "Player Stands, Dealer's Turn\n",
      "DEALERS HAND:\n",
      "One card hidden!\n",
      "Two of Diamonds\n",
      "\n",
      "PLAYERS HAND:\n",
      "Ace of Hearts\n",
      "Jack of Spades\n",
      "Six of Clubs\n",
      "DEALERS HAND:\n",
      "Seven of Spades\n",
      "Two of Diamonds\n",
      "Ten of Hearts\n",
      "\n",
      "PLAYERS HAND:\n",
      "Ace of Hearts\n",
      "Jack of Spades\n",
      "Six of Clubs\n",
      "DEALER WINS!!\n",
      "\n",
      "Player's total chips are at : 99\n",
      "Would you like to play another hand? y/n : n\n",
      "Thank you for playing!\n"
     ]
    }
   ],
   "source": [
    "while True:\n",
    "    # Print an Opening Statement\n",
    "    print(\"WELCOME TO BLACKJACK!!\\n\\n\")\n",
    "    \n",
    "    # Create and Shuffle the deck and deal 2 cards to each Player\n",
    "    deck = Deck()\n",
    "    deck.shuffle_deck()\n",
    "    \n",
    "    player_hand = Hand()\n",
    "    player_hand.add_card(deck.deal())\n",
    "    player_hand.add_card(deck.deal())\n",
    "    \n",
    "    dealer_hand = Hand()\n",
    "    dealer_hand.add_card(deck.deal())\n",
    "    dealer_hand.add_card(deck.deal())\n",
    "    \n",
    "    # Set up Player's chips\n",
    "    player_chips = Chips()\n",
    "    \n",
    "    # Prompt the Player for their bet\n",
    "    take_bet(player_chips)\n",
    "    \n",
    "    # Show cards (Keep One dealer card hidden)\n",
    "    show_some(player_hand, dealer_hand)\n",
    "    \n",
    "    while playing:\n",
    "        \n",
    "        # Prompt for player to Hit or Stand\n",
    "        hit_or_stand(deck, player_hand)\n",
    "        \n",
    "        # Show Cards (Keep one dealer card hidden)\n",
    "        show_some(player_hand, dealer_hand)\n",
    "        \n",
    "        # If Player's hand exceeds 21, run player_busts() and beak out of the loop\n",
    "        if player_hand.value > 21:\n",
    "            player_busts(player_hand, dealer_hand, player_chips)\n",
    "            \n",
    "            break\n",
    "    \n",
    "    \n",
    "    # If Player hasn't busted, play Dealer's hand until Dealer reaches 17\n",
    "    if player_hand.value <= 21:\n",
    "        \n",
    "        while dealer_hand.value < player_hand.value:\n",
    "            hit(deck, dealer_hand)\n",
    "    \n",
    "        # Show all cards\n",
    "        show_all(player_hand, dealer_hand)\n",
    "        \n",
    "        # Run different winning scenarios\n",
    "        if dealer_hand.value > 21:\n",
    "            dealer_busts(player_hand, dealer_hand, player_chips)\n",
    "        elif dealer_hand.value > player_hand.value:\n",
    "            dealer_wins(player_hand, dealer_hand, player_chips)\n",
    "        elif dealer_hand.value < player_hand.value:\n",
    "            player_wins(player_hand, dealer_hand, player_chips)\n",
    "        else:\n",
    "            push(player_hand, dealer_hand)\n",
    "            \n",
    "    # Inform Player of their Chips total\n",
    "    print(\"\\nPlayer's total chips are at : {}\".format(player_chips.total))\n",
    "    \n",
    "    # Ask to Play Again\n",
    "    new_game = input(\"Would you like to play another hand? y/n : \")\n",
    "    \n",
    "    if new_game[0].lower() == 'y':\n",
    "        playing = True\n",
    "        continue\n",
    "    else:\n",
    "        print(\"Thank you for playing!\")\n",
    "        break"
   ]
  },
  {
   "cell_type": "code",
   "execution_count": null,
   "metadata": {},
   "outputs": [],
   "source": []
  }
 ],
 "metadata": {
  "kernelspec": {
   "display_name": "Python 3",
   "language": "python",
   "name": "python3"
  },
  "language_info": {
   "codemirror_mode": {
    "name": "ipython",
    "version": 3
   },
   "file_extension": ".py",
   "mimetype": "text/x-python",
   "name": "python",
   "nbconvert_exporter": "python",
   "pygments_lexer": "ipython3",
   "version": "3.8.3"
  }
 },
 "nbformat": 4,
 "nbformat_minor": 4
}
