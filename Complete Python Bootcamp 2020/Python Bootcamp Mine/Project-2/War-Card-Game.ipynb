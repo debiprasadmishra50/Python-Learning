{
 "cells": [
  {
   "cell_type": "markdown",
   "metadata": {},
   "source": [
    "## War-Card-Game"
   ]
  },
  {
   "cell_type": "markdown",
   "metadata": {},
   "source": [
    "### Card Class\n",
    "        SUIT : Should understand which card it is : heart, spade, diamond, club\n",
    "        RANK : Understand what card, 2,3,4,5,...Jack, Queen...etc\n",
    "        VALUE : One Integer value for One Card"
   ]
  },
  {
   "cell_type": "code",
   "execution_count": 52,
   "metadata": {},
   "outputs": [],
   "source": [
    "## GLOBAL VARIABLE OF VALUES\n",
    "\n",
    "import random\n",
    "\n",
    "suits = ('Hearts', 'Diamonds', 'Spades', 'Clubs')\n",
    "ranks = ('Two', 'Three', 'Four', 'Five', 'Six', 'Seven', 'Eight', 'Nine', 'Ten', 'Jack', 'Queen', 'King', 'Ace')\n",
    "values = {'Two':2, 'Three':3, 'Four':4, 'Five':5, 'Six':6, 'Seven':7, 'Eight':8, 'Nine':9, 'Ten':10, \n",
    "          'Jack':11, 'Queen':12, 'King':13, 'Ace':14}"
   ]
  },
  {
   "cell_type": "code",
   "execution_count": 53,
   "metadata": {},
   "outputs": [],
   "source": [
    "class Card():\n",
    "    \n",
    "    def __init__(self, suit, rank):\n",
    "        self.suit = suit\n",
    "        self.rank = rank\n",
    "        self.value = values[rank]\n",
    "    \n",
    "    def __str__(self):\n",
    "        return self.rank + \" of \" + self.suit"
   ]
  },
  {
   "cell_type": "code",
   "execution_count": 17,
   "metadata": {},
   "outputs": [],
   "source": [
    "three_of_clubs = Card(\"Clubs\",\"Three\")"
   ]
  },
  {
   "cell_type": "code",
   "execution_count": 18,
   "metadata": {},
   "outputs": [
    {
     "data": {
      "text/plain": [
       "'Clubs'"
      ]
     },
     "execution_count": 18,
     "metadata": {},
     "output_type": "execute_result"
    }
   ],
   "source": [
    "three_of_clubs.suit"
   ]
  },
  {
   "cell_type": "code",
   "execution_count": 19,
   "metadata": {},
   "outputs": [
    {
     "data": {
      "text/plain": [
       "'Three'"
      ]
     },
     "execution_count": 19,
     "metadata": {},
     "output_type": "execute_result"
    }
   ],
   "source": [
    "three_of_clubs.rank"
   ]
  },
  {
   "cell_type": "code",
   "execution_count": 20,
   "metadata": {},
   "outputs": [
    {
     "data": {
      "text/plain": [
       "3"
      ]
     },
     "execution_count": 20,
     "metadata": {},
     "output_type": "execute_result"
    }
   ],
   "source": [
    "three_of_clubs.value"
   ]
  },
  {
   "cell_type": "code",
   "execution_count": 21,
   "metadata": {},
   "outputs": [
    {
     "name": "stdout",
     "output_type": "stream",
     "text": [
      "Three of Clubs\n"
     ]
    }
   ],
   "source": [
    "print(three_of_clubs)"
   ]
  },
  {
   "cell_type": "code",
   "execution_count": 22,
   "metadata": {},
   "outputs": [],
   "source": [
    "two_hearts = Card(suit=\"Hearts\", rank=\"Two\")"
   ]
  },
  {
   "cell_type": "code",
   "execution_count": 24,
   "metadata": {},
   "outputs": [
    {
     "name": "stdout",
     "output_type": "stream",
     "text": [
      "Two of Hearts\n"
     ]
    }
   ],
   "source": [
    "print(two_hearts)"
   ]
  },
  {
   "cell_type": "code",
   "execution_count": 25,
   "metadata": {},
   "outputs": [
    {
     "data": {
      "text/plain": [
       "'Two'"
      ]
     },
     "execution_count": 25,
     "metadata": {},
     "output_type": "execute_result"
    }
   ],
   "source": [
    "two_hearts.rank"
   ]
  },
  {
   "cell_type": "code",
   "execution_count": 26,
   "metadata": {},
   "outputs": [
    {
     "data": {
      "text/plain": [
       "'Hearts'"
      ]
     },
     "execution_count": 26,
     "metadata": {},
     "output_type": "execute_result"
    }
   ],
   "source": [
    "two_hearts.suit"
   ]
  },
  {
   "cell_type": "code",
   "execution_count": 27,
   "metadata": {},
   "outputs": [
    {
     "data": {
      "text/plain": [
       "2"
      ]
     },
     "execution_count": 27,
     "metadata": {},
     "output_type": "execute_result"
    }
   ],
   "source": [
    "two_hearts.value"
   ]
  },
  {
   "cell_type": "code",
   "execution_count": 28,
   "metadata": {},
   "outputs": [
    {
     "data": {
      "text/plain": [
       "True"
      ]
     },
     "execution_count": 28,
     "metadata": {},
     "output_type": "execute_result"
    }
   ],
   "source": [
    "two_hearts.value < three_of_clubs.value"
   ]
  },
  {
   "cell_type": "code",
   "execution_count": null,
   "metadata": {},
   "outputs": [],
   "source": []
  },
  {
   "cell_type": "code",
   "execution_count": null,
   "metadata": {},
   "outputs": [],
   "source": []
  },
  {
   "cell_type": "markdown",
   "metadata": {},
   "source": [
    "### Deck Class\n",
    "        1. Instantiate a New Deck\n",
    "            - Create all 52 card objects\n",
    "            - Hold as a list of Card Objects\n",
    "        2. Shuffle a Deck through method call\n",
    "            - Random library, shuffle() function\n",
    "        3. Deal cards from the Deck Object\n",
    "            - pop method from cards list\n",
    "         - Deck Class holds a list of card objects\n",
    "         - Deck class will return Card Class object instances"
   ]
  },
  {
   "cell_type": "code",
   "execution_count": 116,
   "metadata": {},
   "outputs": [],
   "source": [
    "class Deck:\n",
    "    \n",
    "    def __init__(self):\n",
    "        self.all_cards = []\n",
    "        \n",
    "        for suit in suits:\n",
    "            for rank in ranks:\n",
    "                # CREATE THE CARD OBJECT / CREATE ALL THE CARDS / CREATE THE CARD DECK\n",
    "                created_card = Card(suit,rank)\n",
    "                self.all_cards.append(created_card)\n",
    "    \n",
    "    # SHUFFLE THE DECK\n",
    "    def shuffle_deck(self):\n",
    "        random.shuffle(self.all_cards)\n",
    "    \n",
    "    # GRAB ONE OF THE CARD FROM THE LIST\n",
    "    def grab_one(self):\n",
    "        return self.all_cards.pop()"
   ]
  },
  {
   "cell_type": "code",
   "execution_count": 117,
   "metadata": {},
   "outputs": [],
   "source": [
    "new_deck = Deck()"
   ]
  },
  {
   "cell_type": "code",
   "execution_count": 118,
   "metadata": {},
   "outputs": [],
   "source": [
    "# CALL THE SHUFFLE METHOD\n",
    "new_deck.shuffle_deck()"
   ]
  },
  {
   "cell_type": "code",
   "execution_count": 122,
   "metadata": {},
   "outputs": [],
   "source": [
    "mycard = new_deck.grab_one()"
   ]
  },
  {
   "cell_type": "code",
   "execution_count": 123,
   "metadata": {},
   "outputs": [
    {
     "name": "stdout",
     "output_type": "stream",
     "text": [
      "King of Hearts\n"
     ]
    }
   ],
   "source": [
    "print(mycard)"
   ]
  },
  {
   "cell_type": "code",
   "execution_count": 119,
   "metadata": {},
   "outputs": [
    {
     "data": {
      "text/plain": [
       "52"
      ]
     },
     "execution_count": 119,
     "metadata": {},
     "output_type": "execute_result"
    }
   ],
   "source": [
    "len(new_deck.all_cards)"
   ]
  },
  {
   "cell_type": "code",
   "execution_count": 99,
   "metadata": {},
   "outputs": [],
   "source": [
    "first_card = new_deck.all_cards[-1]"
   ]
  },
  {
   "cell_type": "code",
   "execution_count": 100,
   "metadata": {},
   "outputs": [
    {
     "name": "stdout",
     "output_type": "stream",
     "text": [
      "Six of Diamonds\n"
     ]
    }
   ],
   "source": [
    "print(first_card)"
   ]
  },
  {
   "cell_type": "code",
   "execution_count": 101,
   "metadata": {},
   "outputs": [
    {
     "data": {
      "text/plain": [
       "'Six'"
      ]
     },
     "execution_count": 101,
     "metadata": {},
     "output_type": "execute_result"
    }
   ],
   "source": [
    "first_card.rank"
   ]
  },
  {
   "cell_type": "code",
   "execution_count": 102,
   "metadata": {},
   "outputs": [
    {
     "data": {
      "text/plain": [
       "'Diamonds'"
      ]
     },
     "execution_count": 102,
     "metadata": {},
     "output_type": "execute_result"
    }
   ],
   "source": [
    "first_card.suit"
   ]
  },
  {
   "cell_type": "code",
   "execution_count": 103,
   "metadata": {},
   "outputs": [
    {
     "data": {
      "text/plain": [
       "6"
      ]
     },
     "execution_count": 103,
     "metadata": {},
     "output_type": "execute_result"
    }
   ],
   "source": [
    "first_card.value"
   ]
  },
  {
   "cell_type": "code",
   "execution_count": 121,
   "metadata": {},
   "outputs": [
    {
     "name": "stdout",
     "output_type": "stream",
     "text": [
      "1 --> Six of Clubs\n",
      "2 --> Two of Clubs\n",
      "3 --> Jack of Diamonds\n",
      "4 --> King of Clubs\n",
      "5 --> Four of Diamonds\n",
      "6 --> Eight of Diamonds\n",
      "7 --> Eight of Spades\n",
      "8 --> Queen of Clubs\n",
      "9 --> Eight of Clubs\n",
      "10 --> Two of Hearts\n",
      "11 --> Ten of Diamonds\n",
      "12 --> Jack of Hearts\n",
      "13 --> Seven of Clubs\n",
      "14 --> Two of Spades\n",
      "15 --> Six of Hearts\n",
      "16 --> Ace of Spades\n",
      "17 --> Nine of Clubs\n",
      "18 --> Ten of Spades\n",
      "19 --> Six of Diamonds\n",
      "20 --> Seven of Hearts\n",
      "21 --> Six of Spades\n",
      "22 --> Jack of Clubs\n",
      "23 --> Queen of Spades\n",
      "24 --> Ten of Hearts\n",
      "25 --> Seven of Diamonds\n",
      "26 --> Nine of Spades\n",
      "27 --> Four of Spades\n",
      "28 --> Seven of Spades\n",
      "29 --> Nine of Hearts\n",
      "30 --> Ace of Clubs\n",
      "31 --> Five of Hearts\n",
      "32 --> King of Diamonds\n",
      "33 --> Five of Diamonds\n",
      "34 --> Three of Hearts\n",
      "35 --> Eight of Hearts\n",
      "36 --> Four of Clubs\n",
      "37 --> Four of Hearts\n",
      "38 --> Queen of Hearts\n",
      "39 --> Ten of Clubs\n",
      "40 --> Queen of Diamonds\n",
      "41 --> Two of Diamonds\n",
      "42 --> King of Spades\n",
      "43 --> Nine of Diamonds\n",
      "44 --> Five of Spades\n",
      "45 --> Three of Clubs\n",
      "46 --> Five of Clubs\n",
      "47 --> Three of Diamonds\n",
      "48 --> Ace of Diamonds\n",
      "49 --> Jack of Spades\n",
      "50 --> Three of Spades\n",
      "51 --> Ace of Hearts\n",
      "52 --> King of Hearts\n"
     ]
    }
   ],
   "source": [
    "i = 1\n",
    "for cards in new_deck.all_cards:\n",
    "    print(f\"{i} --> {cards}\")\n",
    "    i+=1"
   ]
  },
  {
   "cell_type": "code",
   "execution_count": null,
   "metadata": {},
   "outputs": [],
   "source": []
  },
  {
   "cell_type": "code",
   "execution_count": null,
   "metadata": {},
   "outputs": [],
   "source": []
  },
  {
   "cell_type": "markdown",
   "metadata": {},
   "source": [
    "### Player Class\n",
    "        This class is used to hold a Player's current list of cards\n",
    "        A Player should be able to add or remove cards from their hand\n",
    "        Player should be able to add a single(list.append()) or multiple(list.extend()) cards to their list\n",
    "        Draw(list.pop()) should be from the top and To add cards, it must be added at the bottom"
   ]
  },
  {
   "cell_type": "code",
   "execution_count": 143,
   "metadata": {},
   "outputs": [],
   "source": [
    "class Player():\n",
    "    \n",
    "    def __init__(self, name):\n",
    "        self.name = name\n",
    "        self.all_cards = []\n",
    "        \n",
    "    def remove_one(self):\n",
    "        return self.all_cards.pop(0)\n",
    "    \n",
    "    def add_cards(self, new_cards):\n",
    "        if type(new_cards) == type([]):\n",
    "            # FOR new_cards a MULTIPLE CARD OBJECT\n",
    "            self.all_cards.extend(new_cards)\n",
    "        else:\n",
    "            # FOR new_cards a SINGLE CARD OBJECT\n",
    "            self.all_cards.append(new_cards)\n",
    "    \n",
    "    def __str__(self):\n",
    "        return f\"Player {self.name} has {len(self.all_cards)} Cards.\""
   ]
  },
  {
   "cell_type": "code",
   "execution_count": 144,
   "metadata": {},
   "outputs": [],
   "source": [
    "new_player = Player(\"debi\")"
   ]
  },
  {
   "cell_type": "code",
   "execution_count": 145,
   "metadata": {},
   "outputs": [
    {
     "name": "stdout",
     "output_type": "stream",
     "text": [
      "Player debi has 0 Cards.\n"
     ]
    }
   ],
   "source": [
    "print(new_player)"
   ]
  },
  {
   "cell_type": "code",
   "execution_count": 146,
   "metadata": {},
   "outputs": [],
   "source": [
    "new_player.add_cards(mycard)"
   ]
  },
  {
   "cell_type": "code",
   "execution_count": 149,
   "metadata": {},
   "outputs": [
    {
     "name": "stdout",
     "output_type": "stream",
     "text": [
      "Player debi has 1 Cards.\n"
     ]
    }
   ],
   "source": [
    "print(new_player)"
   ]
  },
  {
   "cell_type": "code",
   "execution_count": 141,
   "metadata": {},
   "outputs": [
    {
     "name": "stdout",
     "output_type": "stream",
     "text": [
      "King of Hearts\n"
     ]
    }
   ],
   "source": [
    "print(mycard)"
   ]
  },
  {
   "cell_type": "code",
   "execution_count": 150,
   "metadata": {},
   "outputs": [
    {
     "name": "stdout",
     "output_type": "stream",
     "text": [
      "King of Hearts\n"
     ]
    }
   ],
   "source": [
    "print(new_player.all_cards[0])"
   ]
  },
  {
   "cell_type": "code",
   "execution_count": 151,
   "metadata": {},
   "outputs": [],
   "source": [
    "new_player.add_cards([mycard, mycard, mycard])"
   ]
  },
  {
   "cell_type": "code",
   "execution_count": 152,
   "metadata": {},
   "outputs": [
    {
     "name": "stdout",
     "output_type": "stream",
     "text": [
      "Player debi has 4 Cards.\n"
     ]
    }
   ],
   "source": [
    "print(new_player)"
   ]
  },
  {
   "cell_type": "code",
   "execution_count": 153,
   "metadata": {},
   "outputs": [
    {
     "name": "stdout",
     "output_type": "stream",
     "text": [
      "King of Hearts\n",
      "King of Hearts\n",
      "King of Hearts\n",
      "King of Hearts\n"
     ]
    }
   ],
   "source": [
    "for card in new_player.all_cards:\n",
    "    print(card)"
   ]
  },
  {
   "cell_type": "code",
   "execution_count": 154,
   "metadata": {},
   "outputs": [
    {
     "data": {
      "text/plain": [
       "<__main__.Card at 0x26bc24611f0>"
      ]
     },
     "execution_count": 154,
     "metadata": {},
     "output_type": "execute_result"
    }
   ],
   "source": [
    "new_player.remove_one()"
   ]
  },
  {
   "cell_type": "code",
   "execution_count": 155,
   "metadata": {},
   "outputs": [
    {
     "name": "stdout",
     "output_type": "stream",
     "text": [
      "Player debi has 3 Cards.\n"
     ]
    }
   ],
   "source": [
    "print(new_player)"
   ]
  },
  {
   "cell_type": "code",
   "execution_count": null,
   "metadata": {},
   "outputs": [],
   "source": []
  },
  {
   "cell_type": "code",
   "execution_count": null,
   "metadata": {},
   "outputs": [],
   "source": []
  },
  {
   "cell_type": "markdown",
   "metadata": {},
   "source": [
    "### Game Logic Implementation"
   ]
  },
  {
   "cell_type": "code",
   "execution_count": 169,
   "metadata": {},
   "outputs": [],
   "source": [
    "# GAME SETUP\n",
    "player_one = Player(name=\"Debi\")\n",
    "player_two = Player(name=\"Prince\")\n",
    "\n",
    "new_deck = Deck()\n",
    "new_deck.shuffle_deck()\n",
    "\n",
    "for x in range(26):\n",
    "    player_one.add_cards(new_deck.grab_one())\n",
    "    player_two.add_cards(new_deck.grab_one())"
   ]
  },
  {
   "cell_type": "code",
   "execution_count": 170,
   "metadata": {},
   "outputs": [],
   "source": [
    "game_on = True"
   ]
  },
  {
   "cell_type": "code",
   "execution_count": 171,
   "metadata": {},
   "outputs": [
    {
     "name": "stdout",
     "output_type": "stream",
     "text": [
      "Round : 1\n",
      "Round : 2\n",
      "Round : 3\n",
      "Round : 4\n",
      "Round : 5\n",
      "Round : 6\n",
      "Round : 7\n",
      "Round : 8\n",
      "Round : 9\n",
      "Round : 10\n",
      "Round : 11\n",
      "Round : 12\n",
      "Round : 13\n",
      "WAR!!\n",
      "Round : 14\n",
      "Round : 15\n",
      "Round : 16\n",
      "WAR!!\n",
      "Round : 17\n",
      "Round : 18\n",
      "Round : 19\n",
      "Round : 20\n",
      "Round : 21\n",
      "Round : 22\n",
      "Round : 23\n",
      "Round : 24\n",
      "Round : 25\n",
      "WAR!!\n",
      "Round : 26\n",
      "Round : 27\n",
      "Round : 28\n",
      "Round : 29\n",
      "Round : 30\n",
      "Round : 31\n",
      "Round : 32\n",
      "Round : 33\n",
      "Round : 34\n",
      "Round : 35\n",
      "Round : 36\n",
      "Round : 37\n",
      "Round : 38\n",
      "Round : 39\n",
      "Round : 40\n",
      "Round : 41\n",
      "Round : 42\n",
      "Round : 43\n",
      "Round : 44\n",
      "Round : 45\n",
      "Round : 46\n",
      "Round : 47\n",
      "Round : 48\n",
      "Round : 49\n",
      "Round : 50\n",
      "Round : 51\n",
      "Round : 52\n",
      "Round : 53\n",
      "WAR!!\n",
      "Round : 54\n",
      "Round : 55\n",
      "Round : 56\n",
      "Round : 57\n",
      "Round : 58\n",
      "WAR!!\n",
      "Round : 59\n",
      "Round : 60\n",
      "Round : 61\n",
      "Round : 62\n",
      "Round : 63\n",
      "Round : 64\n",
      "Round : 65\n",
      "Round : 66\n",
      "Round : 67\n",
      "Round : 68\n",
      "Round : 69\n",
      "Round : 70\n",
      "Round : 71\n",
      "Round : 72\n",
      "Round : 73\n",
      "Round : 74\n",
      "Round : 75\n",
      "Round : 76\n",
      "Round : 77\n",
      "Round : 78\n",
      "Round : 79\n",
      "Round : 80\n",
      "Round : 81\n",
      "Round : 82\n",
      "Round : 83\n",
      "Round : 84\n",
      "Round : 85\n",
      "Round : 86\n",
      "Round : 87\n",
      "Round : 88\n",
      "Round : 89\n",
      "Round : 90\n",
      "Round : 91\n",
      "Round : 92\n",
      "Round : 93\n",
      "Round : 94\n",
      "Round : 95\n",
      "Round : 96\n",
      "Round : 97\n",
      "Round : 98\n",
      "Round : 99\n",
      "Round : 100\n",
      "Round : 101\n",
      "Round : 102\n",
      "Round : 103\n",
      "Round : 104\n",
      "Round : 105\n",
      "Round : 106\n",
      "Round : 107\n",
      "Round : 108\n",
      "Round : 109\n",
      "Round : 110\n",
      "Round : 111\n",
      "Round : 112\n",
      "Round : 113\n",
      "Round : 114\n",
      "Round : 115\n",
      "Round : 116\n",
      "Round : 117\n",
      "Round : 118\n",
      "Round : 119\n",
      "Round : 120\n",
      "Round : 121\n",
      "Round : 122\n",
      "Round : 123\n",
      "Round : 124\n",
      "Round : 125\n",
      "Round : 126\n",
      "Round : 127\n",
      "Round : 128\n",
      "Round : 129\n",
      "Round : 130\n",
      "Round : 131\n",
      "Round : 132\n",
      "WAR!!\n",
      "Round : 133\n",
      "Round : 134\n",
      "Round : 135\n",
      "Round : 136\n",
      "Round : 137\n",
      "Round : 138\n",
      "Round : 139\n",
      "Round : 140\n",
      "Round : 141\n",
      "Round : 142\n",
      "Round : 143\n",
      "Round : 144\n",
      "Round : 145\n",
      "Round : 146\n",
      "Round : 147\n",
      "Round : 148\n",
      "Round : 149\n",
      "Round : 150\n",
      "Round : 151\n",
      "Round : 152\n",
      "Round : 153\n",
      "Round : 154\n",
      "Round : 155\n",
      "Round : 156\n",
      "Round : 157\n",
      "Round : 158\n",
      "Round : 159\n",
      "Round : 160\n",
      "Round : 161\n",
      "Round : 162\n",
      "Round : 163\n",
      "Round : 164\n",
      "Round : 165\n",
      "Round : 166\n",
      "Round : 167\n",
      "Round : 168\n",
      "Round : 169\n",
      "Round : 170\n",
      "Round : 171\n",
      "Round : 172\n",
      "Round : 173\n",
      "Round : 174\n",
      "Round : 175\n",
      "Round : 176\n",
      "Round : 177\n",
      "Round : 178\n",
      "Round : 179\n",
      "WAR!!\n",
      "Round : 180\n",
      "WAR!!\n",
      "Round : 181\n",
      "Player-1 Debi Out of cards! Player-2 Prince Wins\n"
     ]
    }
   ],
   "source": [
    "round_num = 0\n",
    "# WHILE GAME_ON\n",
    "while game_on:\n",
    "    \n",
    "    round_num += 1\n",
    "    print(f\"Round : {round_num}\")\n",
    "    \n",
    "    if len(player_one.all_cards) == 0:\n",
    "        print(f\"Player-1 {player_one.name} Out of cards! Player-2 {player_two.name} Wins\")\n",
    "        game_on = False\n",
    "        break\n",
    "        \n",
    "    if len(player_two.all_cards) == 0:\n",
    "        print(f\"Player-2 {player_two.name} Out of cards! Player-1 {player_one.name} Wins\")\n",
    "        game_on = False\n",
    "        break\n",
    "    \n",
    "    # START A NEW ROUND\n",
    "    player_one_cards = []\n",
    "    player_one_cards.append(player_one.remove_one())\n",
    "    \n",
    "    player_two_cards = []\n",
    "    player_two_cards.append(player_two.remove_one())\n",
    "    \n",
    "    \n",
    "    # WHILE AT-WAR\n",
    "    at_war = True\n",
    "    \n",
    "    while at_war:\n",
    "        \n",
    "        if player_one_cards[-1].value > player_two_cards[-1].value:\n",
    "            player_one.add_cards(player_one_cards)\n",
    "            player_one.add_cards(player_two_cards)\n",
    "            at_war = False\n",
    "        \n",
    "        elif player_one_cards[-1].value < player_two_cards[-1].value:\n",
    "            player_two.add_cards(player_one_cards)\n",
    "            player_two.add_cards(player_two_cards)\n",
    "            at_war = False\n",
    "        \n",
    "        else:\n",
    "            print(\"WAR!!\")\n",
    "            \n",
    "            if len(player_one.all_cards) < 5:\n",
    "                print(\"Player ONE unable to declare war, it has less number of cards\")\n",
    "                print(\"Game Over at WAR!!\")\n",
    "                print(f\"PLAYER-2 {player_two.name} Wins!!!\")\n",
    "                game_on = False\n",
    "                break\n",
    "            \n",
    "            elif len(player_two.all_cards) < 5:\n",
    "                print(\"Player TWO unable to declare war, it has less number of cards\")\n",
    "                print(\"Game Over at WAR!!\")\n",
    "                print(f\"PLAYER-1 {player_one.name} Wins!!!\")\n",
    "                game_on = False\n",
    "                break\n",
    "            \n",
    "            else:\n",
    "                for num in range(5):\n",
    "                    player_one_cards.append(player_one.remove_one())\n",
    "                    player_two_cards.append(player_two.remove_one())\n",
    "                    "
   ]
  },
  {
   "cell_type": "code",
   "execution_count": null,
   "metadata": {},
   "outputs": [],
   "source": []
  }
 ],
 "metadata": {
  "kernelspec": {
   "display_name": "Python 3",
   "language": "python",
   "name": "python3"
  },
  "language_info": {
   "codemirror_mode": {
    "name": "ipython",
    "version": 3
   },
   "file_extension": ".py",
   "mimetype": "text/x-python",
   "name": "python",
   "nbconvert_exporter": "python",
   "pygments_lexer": "ipython3",
   "version": "3.8.3"
  }
 },
 "nbformat": 4,
 "nbformat_minor": 4
}
