{
 "cells": [
  {
   "cell_type": "markdown",
   "metadata": {},
   "source": [
    "## Assignment"
   ]
  },
  {
   "cell_type": "markdown",
   "metadata": {},
   "source": [
    "#### Use for, split(), and if to create a statement that will print words starting with s in a line"
   ]
  },
  {
   "cell_type": "code",
   "execution_count": 7,
   "metadata": {},
   "outputs": [],
   "source": [
    "st = \"Sam, Print only the words that start with s in this sentence\""
   ]
  },
  {
   "cell_type": "code",
   "execution_count": 8,
   "metadata": {},
   "outputs": [
    {
     "data": {
      "text/plain": [
       "'Sam, Print only the words that start with s in this sentence'"
      ]
     },
     "execution_count": 8,
     "metadata": {},
     "output_type": "execute_result"
    }
   ],
   "source": [
    "st"
   ]
  },
  {
   "cell_type": "code",
   "execution_count": 9,
   "metadata": {},
   "outputs": [
    {
     "name": "stdout",
     "output_type": "stream",
     "text": [
      "Sam,\n",
      "start\n",
      "s\n",
      "sentence\n"
     ]
    }
   ],
   "source": [
    "for word in st.split():\n",
    "    if word[0].lower() == 's':\n",
    "        print(word)"
   ]
  },
  {
   "cell_type": "markdown",
   "metadata": {},
   "source": [
    "#### Use range() to rint even numbers from 0 to 10"
   ]
  },
  {
   "cell_type": "code",
   "execution_count": 12,
   "metadata": {},
   "outputs": [
    {
     "name": "stdout",
     "output_type": "stream",
     "text": [
      "0\t2\t4\t6\t8\t10\t"
     ]
    }
   ],
   "source": [
    "for num in range(0,11,2):\n",
    "    print(num, end=\"\\t\")"
   ]
  },
  {
   "cell_type": "markdown",
   "metadata": {},
   "source": [
    "#### Use list comprehension to create list of all numbers between 1 to 50 that are divisible by 3"
   ]
  },
  {
   "cell_type": "code",
   "execution_count": 13,
   "metadata": {},
   "outputs": [],
   "source": [
    "div_3_list = [x for x in range(1,51) if x % 3 == 0]"
   ]
  },
  {
   "cell_type": "code",
   "execution_count": 14,
   "metadata": {},
   "outputs": [
    {
     "data": {
      "text/plain": [
       "[3, 6, 9, 12, 15, 18, 21, 24, 27, 30, 33, 36, 39, 42, 45, 48]"
      ]
     },
     "execution_count": 14,
     "metadata": {},
     "output_type": "execute_result"
    }
   ],
   "source": [
    "div_3_list"
   ]
  },
  {
   "cell_type": "markdown",
   "metadata": {},
   "source": [
    "#### Go through the string below, if the length of the word is even print \"EVEN\""
   ]
  },
  {
   "cell_type": "code",
   "execution_count": 15,
   "metadata": {},
   "outputs": [],
   "source": [
    "st = \"Print every word in this sentence that has an even number of letters\""
   ]
  },
  {
   "cell_type": "code",
   "execution_count": 17,
   "metadata": {},
   "outputs": [
    {
     "name": "stdout",
     "output_type": "stream",
     "text": [
      "\"word\" is EVEN Letters\n",
      "\"in\" is EVEN Letters\n",
      "\"this\" is EVEN Letters\n",
      "\"sentence\" is EVEN Letters\n",
      "\"that\" is EVEN Letters\n",
      "\"an\" is EVEN Letters\n",
      "\"even\" is EVEN Letters\n",
      "\"number\" is EVEN Letters\n",
      "\"of\" is EVEN Letters\n"
     ]
    }
   ],
   "source": [
    "for word in st.split():\n",
    "    if len(word) % 2 == 0:\n",
    "        print(f\"\\\"{word}\\\" is EVEN Letters\")"
   ]
  },
  {
   "cell_type": "markdown",
   "metadata": {},
   "source": [
    "#### print integers from 1 to 100, for multiplies of 3 print \"Fizz\", For multiplies of 5 print \"Buzz\", for multiplies of both 3 and 5 print \"FizzBuzz\""
   ]
  },
  {
   "cell_type": "code",
   "execution_count": 19,
   "metadata": {},
   "outputs": [
    {
     "name": "stdout",
     "output_type": "stream",
     "text": [
      "1\n",
      "2\n",
      "3 : FIZZ\n",
      "4\n",
      "5 : BUZZ\n",
      "6 : FIZZ\n",
      "7\n",
      "8\n",
      "9 : FIZZ\n",
      "10 : BUZZ\n",
      "11\n",
      "12 : FIZZ\n",
      "13\n",
      "14\n",
      "15 : FIZZBUZZ\n",
      "16\n",
      "17\n",
      "18 : FIZZ\n",
      "19\n",
      "20 : BUZZ\n",
      "21 : FIZZ\n",
      "22\n",
      "23\n",
      "24 : FIZZ\n",
      "25 : BUZZ\n",
      "26\n",
      "27 : FIZZ\n",
      "28\n",
      "29\n",
      "30 : FIZZBUZZ\n",
      "31\n",
      "32\n",
      "33 : FIZZ\n",
      "34\n",
      "35 : BUZZ\n",
      "36 : FIZZ\n",
      "37\n",
      "38\n",
      "39 : FIZZ\n",
      "40 : BUZZ\n",
      "41\n",
      "42 : FIZZ\n",
      "43\n",
      "44\n",
      "45 : FIZZBUZZ\n",
      "46\n",
      "47\n",
      "48 : FIZZ\n",
      "49\n",
      "50 : BUZZ\n",
      "51 : FIZZ\n",
      "52\n",
      "53\n",
      "54 : FIZZ\n",
      "55 : BUZZ\n",
      "56\n",
      "57 : FIZZ\n",
      "58\n",
      "59\n",
      "60 : FIZZBUZZ\n",
      "61\n",
      "62\n",
      "63 : FIZZ\n",
      "64\n",
      "65 : BUZZ\n",
      "66 : FIZZ\n",
      "67\n",
      "68\n",
      "69 : FIZZ\n",
      "70 : BUZZ\n",
      "71\n",
      "72 : FIZZ\n",
      "73\n",
      "74\n",
      "75 : FIZZBUZZ\n",
      "76\n",
      "77\n",
      "78 : FIZZ\n",
      "79\n",
      "80 : BUZZ\n",
      "81 : FIZZ\n",
      "82\n",
      "83\n",
      "84 : FIZZ\n",
      "85 : BUZZ\n",
      "86\n",
      "87 : FIZZ\n",
      "88\n",
      "89\n",
      "90 : FIZZBUZZ\n",
      "91\n",
      "92\n",
      "93 : FIZZ\n",
      "94\n",
      "95 : BUZZ\n",
      "96 : FIZZ\n",
      "97\n",
      "98\n",
      "99 : FIZZ\n",
      "100 : BUZZ\n"
     ]
    }
   ],
   "source": [
    "for num in range(1,101):\n",
    "    if num%3 == 0 and num%5 == 0:\n",
    "        print(f\"{num} : FIZZBUZZ\")\n",
    "    elif num%3 == 0:\n",
    "        print(f\"{num} : FIZZ\")\n",
    "    elif num%5 == 0:\n",
    "        print(f\"{num} : BUZZ\")\n",
    "    else:\n",
    "        print(num)"
   ]
  },
  {
   "cell_type": "markdown",
   "metadata": {},
   "source": [
    "#### use list comprehension to create a list of the first letters of every word in the string below"
   ]
  },
  {
   "cell_type": "code",
   "execution_count": 20,
   "metadata": {},
   "outputs": [],
   "source": [
    "st = \"Create a list of the first letters of every word in this string\""
   ]
  },
  {
   "cell_type": "code",
   "execution_count": 21,
   "metadata": {},
   "outputs": [],
   "source": [
    "letter_list = [word[0] for word in st.split()]"
   ]
  },
  {
   "cell_type": "code",
   "execution_count": 22,
   "metadata": {},
   "outputs": [
    {
     "data": {
      "text/plain": [
       "['C', 'a', 'l', 'o', 't', 'f', 'l', 'o', 'e', 'w', 'i', 't', 's']"
      ]
     },
     "execution_count": 22,
     "metadata": {},
     "output_type": "execute_result"
    }
   ],
   "source": [
    "letter_list"
   ]
  },
  {
   "cell_type": "markdown",
   "metadata": {},
   "source": [
    "### Alternate characters of a string is upper case"
   ]
  },
  {
   "cell_type": "code",
   "execution_count": 1,
   "metadata": {},
   "outputs": [],
   "source": [
    "def myfunc(string):\n",
    "    l = ''\n",
    "    i = 0\n",
    "    while i <= len(string)-1:\n",
    "        if i % 2 == 0:\n",
    "            l = l+string[i].lower()\n",
    "        else:\n",
    "            l = l+string[i].upper()\n",
    "        i+=1\n",
    "    return l"
   ]
  },
  {
   "cell_type": "code",
   "execution_count": 2,
   "metadata": {},
   "outputs": [
    {
     "data": {
      "text/plain": [
       "'aNtHrOpOmOrPhIsM'"
      ]
     },
     "execution_count": 2,
     "metadata": {},
     "output_type": "execute_result"
    }
   ],
   "source": [
    "myfunc(\"anthropomorphism\")"
   ]
  },
  {
   "cell_type": "code",
   "execution_count": null,
   "metadata": {},
   "outputs": [],
   "source": []
  }
 ],
 "metadata": {
  "kernelspec": {
   "display_name": "Python 3",
   "language": "python",
   "name": "python3"
  },
  "language_info": {
   "codemirror_mode": {
    "name": "ipython",
    "version": 3
   },
   "file_extension": ".py",
   "mimetype": "text/x-python",
   "name": "python",
   "nbconvert_exporter": "python",
   "pygments_lexer": "ipython3",
   "version": "3.8.3"
  }
 },
 "nbformat": 4,
 "nbformat_minor": 4
}
