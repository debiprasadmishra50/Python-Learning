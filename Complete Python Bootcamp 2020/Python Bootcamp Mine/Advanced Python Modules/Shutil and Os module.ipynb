{
 "cells": [
  {
   "cell_type": "markdown",
   "metadata": {},
   "source": [
    "## Shutil and Os Module\n",
    "    Opening and reading files and folders"
   ]
  },
  {
   "cell_type": "code",
   "execution_count": 1,
   "metadata": {},
   "outputs": [
    {
     "data": {
      "text/plain": [
       "'C:\\\\Users\\\\HP\\\\Desktop\\\\Python Bootcamp\\\\Advanced Python Modules'"
      ]
     },
     "execution_count": 1,
     "metadata": {},
     "output_type": "execute_result"
    }
   ],
   "source": [
    "pwd"
   ]
  },
  {
   "cell_type": "code",
   "execution_count": 3,
   "metadata": {},
   "outputs": [],
   "source": [
    "f = open('practice.txt', 'w+')\n",
    "f.write(\"This is a test String\")\n",
    "f.close()"
   ]
  },
  {
   "cell_type": "code",
   "execution_count": 4,
   "metadata": {},
   "outputs": [],
   "source": [
    "import os"
   ]
  },
  {
   "cell_type": "code",
   "execution_count": 5,
   "metadata": {},
   "outputs": [
    {
     "data": {
      "text/plain": [
       "'C:\\\\Users\\\\HP\\\\Desktop\\\\Python Bootcamp\\\\Advanced Python Modules'"
      ]
     },
     "execution_count": 5,
     "metadata": {},
     "output_type": "execute_result"
    }
   ],
   "source": [
    "os.getcwd()"
   ]
  },
  {
   "cell_type": "code",
   "execution_count": 6,
   "metadata": {},
   "outputs": [
    {
     "data": {
      "text/plain": [
       "['.ipynb_checkpoints',\n",
       " 'Collection Module.ipynb',\n",
       " 'practice.txt',\n",
       " 'Shutil and Os module.ipynb']"
      ]
     },
     "execution_count": 6,
     "metadata": {},
     "output_type": "execute_result"
    }
   ],
   "source": [
    "os.listdir()"
   ]
  },
  {
   "cell_type": "code",
   "execution_count": 11,
   "metadata": {},
   "outputs": [
    {
     "data": {
      "text/plain": [
       "['All Users', 'Default', 'Default User', 'desktop.ini', 'HP', 'Public']"
      ]
     },
     "execution_count": 11,
     "metadata": {},
     "output_type": "execute_result"
    }
   ],
   "source": [
    "os.listdir(path='C:\\\\Users')"
   ]
  },
  {
   "cell_type": "code",
   "execution_count": 10,
   "metadata": {},
   "outputs": [],
   "source": [
    "import shutil"
   ]
  },
  {
   "cell_type": "code",
   "execution_count": 12,
   "metadata": {},
   "outputs": [
    {
     "data": {
      "text/plain": [
       "'C:\\\\Users\\\\HP\\\\Desktop\\\\practice.txt'"
      ]
     },
     "execution_count": 12,
     "metadata": {},
     "output_type": "execute_result"
    }
   ],
   "source": [
    "shutil.copy('practice.txt', 'C:\\\\Users\\\\HP\\\\Desktop\\\\')"
   ]
  },
  {
   "cell_type": "markdown",
   "metadata": {},
   "source": [
    "### Deleting files\n",
    "    \n",
    "    os.unink(path) : Deletes one file\n",
    "    os.rmdir(path) : Deletes a directory(Directory must be EMPTY)\n",
    "    shutil.rmtree(path) : (Deletes all files and folders in the path)\n",
    "    \n",
    "    All of these methods are irreversible, so we can use send2trash module"
   ]
  },
  {
   "cell_type": "code",
   "execution_count": 13,
   "metadata": {},
   "outputs": [],
   "source": [
    "import send2trash"
   ]
  },
  {
   "cell_type": "code",
   "execution_count": null,
   "metadata": {},
   "outputs": [],
   "source": [
    "send2trash.send2trash('file')"
   ]
  },
  {
   "cell_type": "code",
   "execution_count": 16,
   "metadata": {},
   "outputs": [
    {
     "name": "stdout",
     "output_type": "stream",
     "text": [
      "('C:\\\\Users\\\\HP\\\\Desktop\\\\Python Bootcamp\\\\Advanced Python Modules', ['.ipynb_checkpoints'], ['Collection Module.ipynb', 'practice.txt', 'Shutil and Os module.ipynb'])\n",
      "('C:\\\\Users\\\\HP\\\\Desktop\\\\Python Bootcamp\\\\Advanced Python Modules\\\\.ipynb_checkpoints', [], ['Collection Module-checkpoint.ipynb', 'Shutil and Os module-checkpoint.ipynb'])\n"
     ]
    }
   ],
   "source": [
    "for item in os.walk(os.getcwd()):\n",
    "    print(item)"
   ]
  },
  {
   "cell_type": "code",
   "execution_count": 17,
   "metadata": {},
   "outputs": [
    {
     "name": "stdout",
     "output_type": "stream",
     "text": [
      "Looking at C:\\Users\\HP\\Desktop\\Python Bootcamp\\Advanced Python Modules\n",
      "\n",
      "\tSub-Folder .ipynb_checkpoints\n",
      "\n",
      "The Files are:\n",
      "\tFile: Collection Module.ipynb\n",
      "\tFile: practice.txt\n",
      "\tFile: Shutil and Os module.ipynb\n",
      "\n",
      "\n",
      "Looking at C:\\Users\\HP\\Desktop\\Python Bootcamp\\Advanced Python Modules\\.ipynb_checkpoints\n",
      "\n",
      "\n",
      "The Files are:\n",
      "\tFile: Collection Module-checkpoint.ipynb\n",
      "\tFile: Shutil and Os module-checkpoint.ipynb\n",
      "\n",
      "\n"
     ]
    }
   ],
   "source": [
    "for folder, sub_folder, files in os.walk(os.getcwd()):\n",
    "    print(f\"Looking at {folder}\\n\")\n",
    "    \n",
    "    for sub_fold in sub_folder:\n",
    "        print(f\"\\tSub-Folder {sub_fold}\")\n",
    "    \n",
    "    print(\"\\nThe Files are:\")\n",
    "    for file in files:\n",
    "        print(f\"\\tFile: {file}\")\n",
    "    \n",
    "    print('\\n')"
   ]
  },
  {
   "cell_type": "code",
   "execution_count": null,
   "metadata": {},
   "outputs": [],
   "source": []
  }
 ],
 "metadata": {
  "kernelspec": {
   "display_name": "Python 3",
   "language": "python",
   "name": "python3"
  },
  "language_info": {
   "codemirror_mode": {
    "name": "ipython",
    "version": 3
   },
   "file_extension": ".py",
   "mimetype": "text/x-python",
   "name": "python",
   "nbconvert_exporter": "python",
   "pygments_lexer": "ipython3",
   "version": "3.8.3"
  }
 },
 "nbformat": 4,
 "nbformat_minor": 4
}
