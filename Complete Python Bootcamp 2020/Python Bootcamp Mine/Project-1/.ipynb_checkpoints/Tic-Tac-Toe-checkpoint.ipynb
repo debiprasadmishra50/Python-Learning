{
 "cells": [
  {
   "cell_type": "markdown",
   "metadata": {},
   "source": [
    "## Tic-Tac-Toe"
   ]
  },
  {
   "cell_type": "markdown",
   "metadata": {},
   "source": [
    "### 1. Use the idea of Num-pad on keyboard to display the Game Board"
   ]
  },
  {
   "cell_type": "code",
   "execution_count": 1,
   "metadata": {},
   "outputs": [],
   "source": [
    "from IPython.display import clear_output\n",
    "\n",
    "def display_board(board):\n",
    "    clear_output()\n",
    "    print(\"    |   |\")\n",
    "    print('  '+board[7]+' | '+board[8]+' | '+board[9])\n",
    "    print(\"    |   |\")\n",
    "    print(\"--------------\")\n",
    "    print(\"    |   |\")\n",
    "    print('  '+board[4]+' | '+board[5]+' | '+board[6])\n",
    "    print(\"    |   |\")\n",
    "    print(\"--------------\")\n",
    "    print(\"    |   |\")\n",
    "    print('  '+board[1]+' | '+board[2]+' | '+board[3])\n",
    "    print(\"    |   |\")"
   ]
  },
  {
   "cell_type": "code",
   "execution_count": 2,
   "metadata": {},
   "outputs": [
    {
     "name": "stdout",
     "output_type": "stream",
     "text": [
      "    |   |\n",
      "    |   |  \n",
      "    |   |\n",
      "--------------\n",
      "    |   |\n",
      "    |   |  \n",
      "    |   |\n",
      "--------------\n",
      "    |   |\n",
      "    |   |  \n",
      "    |   |\n"
     ]
    }
   ],
   "source": [
    "test_board = [' ']*10\n",
    "display_board(test_board)"
   ]
  },
  {
   "cell_type": "markdown",
   "metadata": {},
   "source": [
    "### 2. A function to take player input and assign their marker as 'X' or 'O'. "
   ]
  },
  {
   "cell_type": "code",
   "execution_count": 3,
   "metadata": {},
   "outputs": [],
   "source": [
    "def player_input():\n",
    "    '''\n",
    "    OUTPUT Format = (Player-1 marker, Player-2 marker)\n",
    "    '''\n",
    "    marker = ''\n",
    "    \n",
    "    while marker not in ['X', 'O']:\n",
    "        marker = input(\"Player-1: Choose X or O: \").upper()\n",
    "        \n",
    "        if marker not in ['X', 'O']:\n",
    "            print(\"Please Choose appropriate option between 'X' and 'O'\")\n",
    "            \n",
    "    if marker == 'X':\n",
    "        return ('X', 'O')\n",
    "    else:\n",
    "        return ('O', 'X')"
   ]
  },
  {
   "cell_type": "code",
   "execution_count": 4,
   "metadata": {},
   "outputs": [
    {
     "name": "stdout",
     "output_type": "stream",
     "text": [
      "Player-1: Choose X or O: x\n"
     ]
    },
    {
     "data": {
      "text/plain": [
       "('X', 'O')"
      ]
     },
     "execution_count": 4,
     "metadata": {},
     "output_type": "execute_result"
    }
   ],
   "source": [
    "player_input()"
   ]
  },
  {
   "cell_type": "markdown",
   "metadata": {},
   "source": [
    "### 3. A function that takes in board list object, a marker ('X', 'O'), and a desired position (1-9) and assign it to the board"
   ]
  },
  {
   "cell_type": "code",
   "execution_count": 5,
   "metadata": {},
   "outputs": [],
   "source": [
    "def place_marker(board, marker, position):\n",
    "    board[position] = marker"
   ]
  },
  {
   "cell_type": "code",
   "execution_count": 6,
   "metadata": {},
   "outputs": [
    {
     "name": "stdout",
     "output_type": "stream",
     "text": [
      "    |   |\n",
      "    |   |  \n",
      "    |   |\n",
      "--------------\n",
      "    |   |\n",
      "    |   |  \n",
      "    |   |\n",
      "--------------\n",
      "    |   |\n",
      "  O |   |  \n",
      "    |   |\n"
     ]
    }
   ],
   "source": [
    "place_marker(test_board, \"O\", 1)\n",
    "display_board(test_board)"
   ]
  },
  {
   "cell_type": "markdown",
   "metadata": {},
   "source": [
    "### 4. A function to take in a board and a mark ('X' or 'O') and check to see if that mark has Own"
   ]
  },
  {
   "cell_type": "code",
   "execution_count": 7,
   "metadata": {},
   "outputs": [],
   "source": [
    "def win_check(board, mark):\n",
    "    # WIN TIC_TAC_TOE\n",
    "    \n",
    "    # CHECK FOR ALL THE ROWS, ALL THE COLUMNS, 2 DIAGONALS\n",
    "    \n",
    "    return ((board[1] == mark and board[2] == mark and board[3] == mark) or # ROW\n",
    "    (board[4] == mark and board[5] == mark and board[6] == mark) or\n",
    "    (board[7] == mark and board[8] == mark and board[9] == mark) or\n",
    "    (board[7] == mark and board[4] == mark and board[1] == mark) or # COLUMN\n",
    "    (board[8] == mark and board[5] == mark and board[2] == mark) or\n",
    "    (board[9] == mark and board[6] == mark and board[3] == mark) or\n",
    "    (board[1] == mark and board[5] == mark and board[9] == mark) or # DIAGONAL\n",
    "    (board[7] == mark and board[5] == mark and board[3] == mark))\n",
    "        "
   ]
  },
  {
   "cell_type": "code",
   "execution_count": 8,
   "metadata": {},
   "outputs": [
    {
     "name": "stdout",
     "output_type": "stream",
     "text": [
      "    |   |\n",
      "    |   |  \n",
      "    |   |\n",
      "--------------\n",
      "    |   |\n",
      "    |   |  \n",
      "    |   |\n",
      "--------------\n",
      "    |   |\n",
      "  O |   |  \n",
      "    |   |\n"
     ]
    },
    {
     "data": {
      "text/plain": [
       "False"
      ]
     },
     "execution_count": 8,
     "metadata": {},
     "output_type": "execute_result"
    }
   ],
   "source": [
    "display_board(test_board)\n",
    "win_check(test_board, 'O')"
   ]
  },
  {
   "cell_type": "markdown",
   "metadata": {},
   "source": [
    "### 5. A function to randomly decide which player goes first"
   ]
  },
  {
   "cell_type": "code",
   "execution_count": 9,
   "metadata": {},
   "outputs": [],
   "source": [
    "from random import randint\n",
    "\n",
    "def choose_first():\n",
    "    flip = randint(0,1)\n",
    "    \n",
    "    if flip == 0:\n",
    "        return \"Player-1\"\n",
    "    else:\n",
    "        return \"Player-2\""
   ]
  },
  {
   "cell_type": "code",
   "execution_count": 10,
   "metadata": {},
   "outputs": [
    {
     "data": {
      "text/plain": [
       "'Player-1'"
      ]
     },
     "execution_count": 10,
     "metadata": {},
     "output_type": "execute_result"
    }
   ],
   "source": [
    "choose_first()"
   ]
  },
  {
   "cell_type": "markdown",
   "metadata": {},
   "source": [
    "### 6. A function to check if space is available on the board, returns boolean"
   ]
  },
  {
   "cell_type": "code",
   "execution_count": 11,
   "metadata": {},
   "outputs": [],
   "source": [
    "def space_check(board, position):\n",
    "    return board[position] == ' '"
   ]
  },
  {
   "cell_type": "markdown",
   "metadata": {},
   "source": [
    "### 7. A function to check if the board is full and return boolean, True if full, false otherwise"
   ]
  },
  {
   "cell_type": "code",
   "execution_count": 12,
   "metadata": {},
   "outputs": [],
   "source": [
    "def full_board_check(board):\n",
    "    for i in range(1,10):\n",
    "        if space_check(board, i):\n",
    "            return False\n",
    "    # TRUE IF BOARD IS FULL\n",
    "    return True"
   ]
  },
  {
   "cell_type": "markdown",
   "metadata": {},
   "source": [
    "### 8. A function that asks for a player's next position(1-9), check if the position is free from step 6, if free, return the position for later use"
   ]
  },
  {
   "cell_type": "code",
   "execution_count": 13,
   "metadata": {},
   "outputs": [],
   "source": [
    "def player_choice(board):\n",
    "    position = 0\n",
    "    \n",
    "    while position not in [1,2,3,4,5,6,7,8,9] or not space_check(board, position):\n",
    "        position = int(input(\"Choose a Position(1-9) : \"))\n",
    "    \n",
    "    return position"
   ]
  },
  {
   "cell_type": "markdown",
   "metadata": {},
   "source": [
    "### 9. A funcion that asks the player if they want to play again or not, returns True if they want to"
   ]
  },
  {
   "cell_type": "code",
   "execution_count": 14,
   "metadata": {},
   "outputs": [],
   "source": [
    "def reply():\n",
    "    response = input(\"Play again? Enter Yes or No : \")\n",
    "    return response == 'Yes'"
   ]
  },
  {
   "cell_type": "markdown",
   "metadata": {},
   "source": [
    "### 10. Use while loops and all the functions to run the game"
   ]
  },
  {
   "cell_type": "code",
   "execution_count": 77,
   "metadata": {},
   "outputs": [
    {
     "ename": "IndentationError",
     "evalue": "expected an indented block (<ipython-input-77-d4b3fca0835f>, line 30)",
     "output_type": "error",
     "traceback": [
      "\u001b[1;36m  File \u001b[1;32m\"<ipython-input-77-d4b3fca0835f>\"\u001b[1;36m, line \u001b[1;32m30\u001b[0m\n\u001b[1;33m    if not reply():\u001b[0m\n\u001b[1;37m    ^\u001b[0m\n\u001b[1;31mIndentationError\u001b[0m\u001b[1;31m:\u001b[0m expected an indented block\n"
     ]
    }
   ],
   "source": [
    "# WHILE LOOP TO KEEP RUNNING THE GAME\n",
    "print(\"Welcome to TIC-TAC-TOE\")\n",
    "\n",
    "while True:\n",
    "    # PLAY THE GAME\n",
    "    \n",
    "    ## SET EVERYTHING UP (BOARD, WHO's FIRST, CHOOSE MARKERS('X', 'O'))\n",
    "    the_board = [' '] * 10\n",
    "    player1_marker, player2_marker = player_input()\n",
    "    \n",
    "    turn = choose_first()\n",
    "    print(turn+\" will goes first\")\n",
    "    \n",
    "    play_game = input(\"Ready to play? y or n? : \")\n",
    "    \n",
    "    if play_game == 'y':\n",
    "        game_on == True\n",
    "    else:\n",
    "        game_on = False\n",
    "    \n",
    "    ## GAME PLAY \n",
    "    while game_on:\n",
    "        if turn == 'Player-1':\n",
    "            ### PLAYER-1 TURN\n",
    "            # Show the board\n",
    "            display_board(the_board)\n",
    "            \n",
    "            # Choose a position\n",
    "            position = player_choice(the_board)\n",
    "            \n",
    "            # Place the marker on the position\n",
    "            place_marker(the_board, player1_marker, position)\n",
    "            \n",
    "            # Check if they own\n",
    "            if win_check(the_board, player1_marker):\n",
    "                display_board(the_board)\n",
    "                print(\"PLAYER-1 HAS WON!!\")\n",
    "                game_on = False\n",
    "            else:\n",
    "                if full_board_check(the_board):\n",
    "                    display_board(the_board)\n",
    "                    print(\"TIE GAME!\")\n",
    "                    game_on = False\n",
    "                else:\n",
    "                    turn = \"Player-2\"\n",
    "            \n",
    "        else:\n",
    "            ### PLAYER-2 TURN\n",
    "            # Show the board\n",
    "            display_board(the_board)\n",
    "            \n",
    "            # Choose a position\n",
    "            position = player_choice(the_board)\n",
    "            \n",
    "            # Place the marker on the position\n",
    "            place_marker(the_board, player2_marker, position)\n",
    "            \n",
    "            # Check if they own\n",
    "            if win_check(the_board, player2_marker):\n",
    "                display_board(the_board)\n",
    "                print(\"PLAYER-2 HAS WON!!\")\n",
    "                game_on = False\n",
    "            else:\n",
    "                if full_board_check(the_board):\n",
    "                    display_board(the_board)\n",
    "                    print(\"TIE GAME!\")\n",
    "                    game_on = False\n",
    "                else:\n",
    "                    turn = \"Player-1\"\n",
    "            \n",
    "    if not reply():\n",
    "        break\n",
    "# BREAK OUT OF WHILE LOOP ON reply()"
   ]
  }
 ],
 "metadata": {
  "kernelspec": {
   "display_name": "Python 3",
   "language": "python",
   "name": "python3"
  },
  "language_info": {
   "codemirror_mode": {
    "name": "ipython",
    "version": 3
   },
   "file_extension": ".py",
   "mimetype": "text/x-python",
   "name": "python",
   "nbconvert_exporter": "python",
   "pygments_lexer": "ipython3",
   "version": "3.8.3"
  }
 },
 "nbformat": 4,
 "nbformat_minor": 4
}
